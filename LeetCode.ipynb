{
 "cells": [
  {
   "cell_type": "code",
   "execution_count": 229,
   "metadata": {},
   "outputs": [],
   "source": [
    "def longestPalindrome(s):\n",
    "    palindrome = s[0]\n",
    "    longest_len = 1\n",
    "    pointer1 = 0\n",
    "    pointer2 = 0\n",
    "    pointer3 = 0\n",
    "    pointer4 = 1\n",
    "    while pointer1 < len(s) - 1:\n",
    "        # print(f\"\\n\\nlooking at {s[pointer1]}\")\n",
    "        while s[pointer2] == s[pointer1]:\n",
    "            pointer2 += 1\n",
    "            if pointer2 == len(s): break\n",
    "        # print(f\"pointer1: {pointer1}\")\n",
    "        # print(f\"pointer2: {pointer2}\")\n",
    "        if pointer1 != 0:\n",
    "            pointer4 = pointer2\n",
    "            pointer3 = pointer1 - 1\n",
    "            # print(f\"pointer3: {pointer3}\")\n",
    "            # print(f\"pointer4: {pointer4}\")\n",
    "            while pointer4 < len(s) and pointer3 > -1:\n",
    "                if s[pointer4] != s[pointer3]: break\n",
    "                pointer3 -= 1\n",
    "                pointer4 += 1\n",
    "                # print(f\"pointer3: {pointer3}\")\n",
    "                # print(f\"pointer2: {pointer2}\")\n",
    "                \n",
    "            current_str = s[pointer3+1:pointer4]\n",
    "            if len(current_str) > longest_len:\n",
    "                # print(f\"longest: {current_str}\")\n",
    "                palindrome = current_str\n",
    "                longest_len = len(current_str)\n",
    "        else:\n",
    "            current_str = s[pointer1:pointer2]\n",
    "            if len(current_str) > longest_len:\n",
    "                # print(f\"longest: {current_str}\")\n",
    "                palindrome = current_str\n",
    "                longest_len = len(current_str)\n",
    "        pointer1 += 1\n",
    "        pointer2 = pointer1\n",
    "    return palindrome\n",
    "\n"
   ]
  },
  {
   "cell_type": "code",
   "execution_count": 235,
   "metadata": {},
   "outputs": [
    {
     "data": {
      "text/plain": [
       "'abbbba'"
      ]
     },
     "execution_count": 235,
     "metadata": {},
     "output_type": "execute_result"
    }
   ],
   "source": [
    "longestPalindrome(\"cabbbbad\")"
   ]
  },
  {
   "cell_type": "code",
   "execution_count": 194,
   "metadata": {},
   "outputs": [
    {
     "data": {
      "text/plain": [
       "'a'"
      ]
     },
     "execution_count": 194,
     "metadata": {},
     "output_type": "execute_result"
    }
   ],
   "source": [
    "a = \"abc\"\n",
    "a[:1]"
   ]
  },
  {
   "cell_type": "code",
   "execution_count": null,
   "metadata": {},
   "outputs": [],
   "source": []
  }
 ],
 "metadata": {
  "kernelspec": {
   "display_name": "Python 3",
   "language": "python",
   "name": "python3"
  },
  "language_info": {
   "codemirror_mode": {
    "name": "ipython",
    "version": 3
   },
   "file_extension": ".py",
   "mimetype": "text/x-python",
   "name": "python",
   "nbconvert_exporter": "python",
   "pygments_lexer": "ipython3",
   "version": "3.11.7"
  }
 },
 "nbformat": 4,
 "nbformat_minor": 2
}
